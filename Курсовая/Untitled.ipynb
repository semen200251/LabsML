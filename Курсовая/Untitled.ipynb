{
 "cells": [
  {
   "cell_type": "code",
   "execution_count": 180,
   "id": "53d8ff15",
   "metadata": {},
   "outputs": [],
   "source": [
    "import pandas as pd\n",
    "from sklearn.model_selection import train_test_split\n",
    "from sklearn import svm\n",
    "from sklearn.svm import SVC\n",
    "from sklearn.metrics import accuracy_score\n",
    "from sklearn.naive_bayes import GaussianNB, MultinomialNB, BernoulliNB\n",
    "import matplotlib.pyplot as plt\n",
    "import numpy as np\n",
    "from sklearn.ensemble import BaggingClassifier\n",
    "from sklearn.neighbors import KNeighborsClassifier\n",
    "from sklearn.manifold import TSNE\n",
    "from sklearn.preprocessing import StandardScaler\n",
    "from scipy.cluster import hierarchy\n",
    "from sklearn.cluster import KMeans\n",
    "import seaborn as sns\n",
    "import tensorflow as tf\n",
    "from tensorflow.keras.layers import Input, Dense\n",
    "from tensorflow.keras.models import Model\n",
    "from sklearn.model_selection import train_test_split"
   ]
  },
  {
   "cell_type": "code",
   "execution_count": 176,
   "id": "a183856f",
   "metadata": {},
   "outputs": [
    {
     "name": "stdout",
     "output_type": "stream",
     "text": [
      "Collecting h2o\n",
      "  Downloading h2o-3.44.0.3.tar.gz (265.2 MB)\n",
      "     -------------------------------------- 265.2/265.2 MB 9.8 MB/s eta 0:00:00\n",
      "  Preparing metadata (setup.py): started\n",
      "  Preparing metadata (setup.py): finished with status 'done'\n",
      "Requirement already satisfied: requests in c:\\users\\semen\\anaconda3\\lib\\site-packages (from h2o) (2.27.1)\n",
      "Requirement already satisfied: tabulate in c:\\users\\semen\\anaconda3\\lib\\site-packages (from h2o) (0.8.9)\n",
      "Requirement already satisfied: idna<4,>=2.5 in c:\\users\\semen\\anaconda3\\lib\\site-packages (from requests->h2o) (3.3)\n",
      "Requirement already satisfied: charset-normalizer~=2.0.0 in c:\\users\\semen\\anaconda3\\lib\\site-packages (from requests->h2o) (2.0.4)\n",
      "Requirement already satisfied: urllib3<1.27,>=1.21.1 in c:\\users\\semen\\anaconda3\\lib\\site-packages (from requests->h2o) (1.26.9)\n",
      "Requirement already satisfied: certifi>=2017.4.17 in c:\\users\\semen\\anaconda3\\lib\\site-packages (from requests->h2o) (2021.10.8)\n",
      "Building wheels for collected packages: h2o\n",
      "  Building wheel for h2o (setup.py): started\n",
      "  Building wheel for h2o (setup.py): finished with status 'done'\n",
      "  Created wheel for h2o: filename=h2o-3.44.0.3-py2.py3-none-any.whl size=265293984 sha256=fbd30cb0291a54e1ae55dfad885f06e059a63370f1a0f622d4e8c35af44b4472\n",
      "  Stored in directory: c:\\users\\semen\\appdata\\local\\pip\\cache\\wheels\\1f\\a0\\9a\\0990c3a2c357eb60cbba0677d681b40ddce4af46d69aca1a2d\n",
      "Successfully built h2o\n",
      "Installing collected packages: h2o\n",
      "Successfully installed h2o-3.44.0.3\n",
      "Note: you may need to restart the kernel to use updated packages.\n"
     ]
    },
    {
     "name": "stderr",
     "output_type": "stream",
     "text": [
      "\n",
      "[notice] A new release of pip available: 22.2.2 -> 23.3.2\n",
      "[notice] To update, run: python.exe -m pip install --upgrade pip\n"
     ]
    }
   ],
   "source": [
    "pip install h2o"
   ]
  },
  {
   "cell_type": "markdown",
   "id": "332afde1",
   "metadata": {},
   "source": [
    "# Задание 1"
   ]
  },
  {
   "cell_type": "markdown",
   "id": "ed8e0e91",
   "metadata": {},
   "source": [
    "### Подготовка данных"
   ]
  },
  {
   "cell_type": "code",
   "execution_count": 228,
   "id": "7d77096c",
   "metadata": {},
   "outputs": [],
   "source": [
    "data = pd.read_csv(\"parkinsons.data\")\n",
    "data = data.drop('name', axis=1)\n",
    "X = data.drop('status', axis=1)\n",
    "\n",
    "y = data['status']\n",
    "X_train, X_test, y_train, y_test = train_test_split(X, y, test_size=0.2, random_state=42)"
   ]
  },
  {
   "cell_type": "markdown",
   "id": "e537f8b1",
   "metadata": {},
   "source": [
    "### SVM"
   ]
  },
  {
   "cell_type": "code",
   "execution_count": 55,
   "id": "118bade4",
   "metadata": {},
   "outputs": [
    {
     "name": "stdout",
     "output_type": "stream",
     "text": [
      "Ядро:  poly\n",
      "Ошибка для тестовой выборки:  0.17948717948717952\n",
      "Ядро:  rbf\n",
      "Ошибка для тестовой выборки:  0.1923076923076923\n",
      "Ядро:  sigmoid\n",
      "Ошибка для тестовой выборки:  0.2564102564102564\n"
     ]
    }
   ],
   "source": [
    "kernels = ['poly', 'rbf', 'sigmoid']\n",
    "for kernel in kernels:\n",
    "    model = svm.SVC(kernel=kernel, C=1)\n",
    "    model.fit(X_train, y_train)\n",
    "    y_predict_test = model.predict(X_test)\n",
    "    y_predict_train = model.predict(X_train)\n",
    "    print(\"Ядро: \", kernel)\n",
    "    print(\"Ошибка для тестовой выборки: \", 1-accuracy_score(y_test, y_predict_test))"
   ]
  },
  {
   "cell_type": "code",
   "execution_count": 60,
   "id": "87c492e2",
   "metadata": {},
   "outputs": [],
   "source": [
    "acc_test_poly = []\n",
    "acc_test_rbf = []\n",
    "acc_test_sigmoid = []\n",
    "c_values = [i for i in range(1, 750)]\n",
    "for c in c_values:\n",
    "    for kernel in kernels:\n",
    "        model = svm.SVC(kernel=kernel, C=c)\n",
    "        model.fit(X_train, y_train)\n",
    "        y_predict_test = model.predict(X_test)\n",
    "        y_predict_train = model.predict(X_train)\n",
    "        if kernel == 'poly':\n",
    "            acc_test_poly.append(1-accuracy_score(y_test, y_predict_test))\n",
    "        if kernel == 'rbf':\n",
    "            acc_test_rbf.append(1-accuracy_score(y_test, y_predict_test))\n",
    "        if kernel == 'sigmoid':\n",
    "            acc_test_sigmoid.append(1-accuracy_score(y_test, y_predict_test))"
   ]
  },
  {
   "cell_type": "code",
   "execution_count": 61,
   "id": "eed687e4",
   "metadata": {},
   "outputs": [
    {
     "data": {
      "text/plain": [
       "<matplotlib.legend.Legend at 0x1c590d4ae20>"
      ]
     },
     "execution_count": 61,
     "metadata": {},
     "output_type": "execute_result"
    },
    {
     "data": {
      "image/png": "[encoded data removed]",
      "text/plain": [
       "<Figure size 576x432 with 1 Axes>"
      ]
     },
     "metadata": {
      "needs_background": "light"
     },
     "output_type": "display_data"
    }
   ],
   "source": [
    "fig, ax = plt.subplots(figsize=(8, 6))\n",
    "ax.plot(c_values, acc_test_poly, label=\"polynomial\")\n",
    "ax.plot(c_values, acc_test_rbf, label=\"radial\")\n",
    "ax.plot(c_values, acc_test_sigmoid, label=\"sigmoid\")\n",
    "ax.set_title(\"График зависимости ошибки классификации от C\")\n",
    "ax.legend(loc='upper right')"
   ]
  },
  {
   "cell_type": "code",
   "execution_count": 66,
   "id": "68e43fae",
   "metadata": {},
   "outputs": [
    {
     "name": "stdout",
     "output_type": "stream",
     "text": [
      "Ошибка для тестовой выборки:  0.14102564102564108\n"
     ]
    }
   ],
   "source": [
    "model = svm.SVC(kernel='poly', C=400, degree=2)\n",
    "model.fit(X_train, y_train)\n",
    "y_predict_test = model.predict(X_test)\n",
    "y_predict_train = model.predict(X_train)\n",
    "print(\"Ошибка для тестовой выборки: \", 1-accuracy_score(y_test, y_predict_test))"
   ]
  },
  {
   "cell_type": "code",
   "execution_count": 67,
   "id": "0734ae28",
   "metadata": {},
   "outputs": [
    {
     "name": "stdout",
     "output_type": "stream",
     "text": [
      "Ошибка классификации на тестовой выборке:  0.2692307692307693\n"
     ]
    }
   ],
   "source": [
    "model = GaussianNB()\n",
    "model.fit(X_train, y_train)\n",
    "y_predict_test = model.predict(X_test)\n",
    "y_predict_train = model.predict(X_train)\n",
    "print(\"Ошибка классификации на тестовой выборке: \", 1-accuracy_score(y_test, y_predict_test))"
   ]
  },
  {
   "cell_type": "code",
   "execution_count": 97,
   "id": "2dab1048",
   "metadata": {},
   "outputs": [
    {
     "name": "stdout",
     "output_type": "stream",
     "text": [
      "0.19999999999999996\n",
      "0.2666666666666667\n",
      "0.30000000000000004\n",
      "0.26530612244897955\n",
      "0.3220338983050848\n",
      "0.28985507246376807\n",
      "0.30379746835443033\n",
      "0.31818181818181823\n",
      "0.2551020408163265\n",
      "0.2407407407407407\n",
      "0.27118644067796616\n",
      "0.2992125984251969\n",
      "0.33576642335766427\n",
      "0.27210884353741494\n",
      "0.23566878980891715\n",
      "0.2650602409638554\n"
     ]
    }
   ],
   "source": [
    "acc = []\n",
    "test_coef = np.arange(0.1, 0.9, 0.05)\n",
    "for value in test_coef:\n",
    "    X_train, X_test, y_train, y_test = train_test_split(X, y, test_size=value, random_state=35)\n",
    "    model = GaussianNB()\n",
    "    model.fit(X_train, y_train)\n",
    "    y_pred = model.predict(X_test)\n",
    "    print(1-accuracy_score(y_test, y_pred))\n",
    "    acc.append(1-accuracy_score(y_test, y_pred))"
   ]
  },
  {
   "cell_type": "code",
   "execution_count": 96,
   "id": "046e3ca6",
   "metadata": {},
   "outputs": [
    {
     "data": {
      "text/plain": [
       "Text(0, 0.5, 'Ошибка предсказания')"
      ]
     },
     "execution_count": 96,
     "metadata": {},
     "output_type": "execute_result"
    },
    {
     "data": {
      "image/png": "[encoded data removed]",
      "text/plain": [
       "<Figure size 432x288 with 1 Axes>"
      ]
     },
     "metadata": {
      "needs_background": "light"
     },
     "output_type": "display_data"
    }
   ],
   "source": [
    "plt.plot(test_coef, acc, marker='o', linestyle='-')\n",
    "plt.title('Зависимость ошибки предсказания от размера тестовой выборки')\n",
    "plt.xlabel('Доля тестовой выборки')\n",
    "plt.ylabel('Ошибка предсказания')"
   ]
  },
  {
   "cell_type": "code",
   "execution_count": 113,
   "id": "d8a67a96",
   "metadata": {},
   "outputs": [
    {
     "name": "stdout",
     "output_type": "stream",
     "text": [
      "0.17948717948717952\n"
     ]
    }
   ],
   "source": [
    "bagging_classifier = BaggingClassifier(base_estimator=KNeighborsClassifier(), n_estimators=1000, random_state=42)\n",
    "bagging_classifier.fit(X_train, y_train)\n",
    "y_pred = bagging_classifier.predict(X_test)\n",
    "print(1-accuracy_score(y_test, y_pred))"
   ]
  },
  {
   "cell_type": "code",
   "execution_count": 119,
   "id": "b1e34671",
   "metadata": {},
   "outputs": [],
   "source": [
    "acc_test_KNN = []\n",
    "acc_test_Tree = []\n",
    "n_estimators = np.arange(10, 200, 10)\n",
    "for n in n_estimators:\n",
    "    bagging_classifier_knn = BaggingClassifier(base_estimator=KNeighborsClassifier(), n_estimators=n, random_state=42)\n",
    "    bagging_classifier_knn.fit(X_train, y_train)\n",
    "    y_pred = bagging_classifier_knn.predict(X_test)\n",
    "    acc_test_KNN.append(1-accuracy_score(y_test, y_pred))\n",
    "    bagging_classifier_tree = BaggingClassifier(n_estimators=n, random_state=42)\n",
    "    bagging_classifier_tree.fit(X_train, y_train)\n",
    "    y_pred = bagging_classifier_tree.predict(X_test)\n",
    "    acc_test_Tree.append(1-accuracy_score(y_test, y_pred))"
   ]
  },
  {
   "cell_type": "code",
   "execution_count": 120,
   "id": "9f71de38",
   "metadata": {},
   "outputs": [
    {
     "data": {
      "text/plain": [
       "<matplotlib.legend.Legend at 0x1c597ee4ca0>"
      ]
     },
     "execution_count": 120,
     "metadata": {},
     "output_type": "execute_result"
    },
    {
     "data": {
      "image/png": "[encoded data removed]",
      "text/plain": [
       "<Figure size 576x432 with 1 Axes>"
      ]
     },
     "metadata": {
      "needs_background": "light"
     },
     "output_type": "display_data"
    }
   ],
   "source": [
    "fig, ax = plt.subplots(figsize=(8, 6))\n",
    "ax.plot(n_estimators, acc_test_KNN, label=\"KNN\")\n",
    "ax.plot(n_estimators, acc_test_Tree, label=\"TREE\")\n",
    "ax.set_title(\"График зависимости ошибки классификации от количества слабых классификаторов\")\n",
    "ax.legend(loc='upper right')"
   ]
  },
  {
   "cell_type": "code",
   "execution_count": 121,
   "id": "bd3cfae1",
   "metadata": {},
   "outputs": [
    {
     "name": "stdout",
     "output_type": "stream",
     "text": [
      "0.05128205128205132\n"
     ]
    }
   ],
   "source": [
    "bagging_classifier_tree = BaggingClassifier(n_estimators=40, random_state=42)\n",
    "bagging_classifier_tree.fit(X_train, y_train)\n",
    "y_pred = bagging_classifier_tree.predict(X_test)\n",
    "print(1-accuracy_score(y_test, y_pred))"
   ]
  },
  {
   "cell_type": "code",
   "execution_count": 146,
   "id": "3d8e1c50",
   "metadata": {},
   "outputs": [
    {
     "name": "stderr",
     "output_type": "stream",
     "text": [
      "C:\\Users\\semen\\anaconda3\\lib\\site-packages\\sklearn\\manifold\\_t_sne.py:800: FutureWarning: The default initialization in TSNE will change from 'random' to 'pca' in 1.2.\n",
      "  warnings.warn(\n",
      "C:\\Users\\semen\\anaconda3\\lib\\site-packages\\sklearn\\manifold\\_t_sne.py:810: FutureWarning: The default learning rate in TSNE will change from 200.0 to 'auto' in 1.2.\n",
      "  warnings.warn(\n"
     ]
    },
    {
     "data": {
      "image/png": "[encoded data removed]",
      "text/plain": [
       "<Figure size 720x576 with 1 Axes>"
      ]
     },
     "metadata": {
      "needs_background": "light"
     },
     "output_type": "display_data"
    }
   ],
   "source": [
    "scaler = StandardScaler()\n",
    "X_train_scaled = scaler.fit_transform(X)\n",
    "tsne = TSNE(n_components=2, random_state=42)\n",
    "X_tsne = tsne.fit_transform(X_train_scaled)\n",
    "tsne_df = pd.DataFrame(data=X_tsne, columns=['Dimension 1', 'Dimension 2'])\n",
    "tsne_df['Target'] = y.values\n",
    "plt.figure(figsize=(10,8))\n",
    "scatter=plt.scatter(tsne_df['Dimension 1'], tsne_df['Dimension 2'], c=tsne_df['Target'], cmap='viridis')\n",
    "plt.legend(*scatter.legend_elements(), title='Classes')\n",
    "plt.title('t-SNE')\n",
    "plt.show()"
   ]
  },
  {
   "cell_type": "code",
   "execution_count": 139,
   "id": "e0b3f560",
   "metadata": {},
   "outputs": [
    {
     "data": {
      "image/png": "[encoded data removed]",
      "text/plain": [
       "<Figure size 432x288 with 1 Axes>"
      ]
     },
     "metadata": {
      "needs_background": "light"
     },
     "output_type": "display_data"
    }
   ],
   "source": [
    "Z = hierarchy.linkage(X, 'average')\n",
    "plt.figure()\n",
    "dn = hierarchy.dendrogram(Z)"
   ]
  },
  {
   "cell_type": "code",
   "execution_count": 161,
   "id": "590ff60a",
   "metadata": {},
   "outputs": [
    {
     "name": "stderr",
     "output_type": "stream",
     "text": [
      "C:\\Users\\semen\\anaconda3\\lib\\site-packages\\sklearn\\cluster\\_kmeans.py:1334: UserWarning: KMeans is known to have a memory leak on Windows with MKL, when there are less chunks than available threads. You can avoid it by setting the environment variable OMP_NUM_THREADS=1.\n",
      "  warnings.warn(\n"
     ]
    }
   ],
   "source": [
    "kmeans = KMeans(n_clusters=2, max_iter=50)\n",
    "kmeans.fit(X)\n",
    "for i in range(0, len(kmeans.labels_)):\n",
    "    if kmeans.labels_[i] == 0:\n",
    "        kmeans.labels_[i] = 1\n",
    "    elif kmeans.labels_[i] == 1:\n",
    "        kmeans.labels_[i] = 0"
   ]
  },
  {
   "cell_type": "code",
   "execution_count": 162,
   "id": "37b18f72",
   "metadata": {},
   "outputs": [
    {
     "name": "stderr",
     "output_type": "stream",
     "text": [
      "C:\\Users\\semen\\anaconda3\\lib\\site-packages\\sklearn\\manifold\\_t_sne.py:800: FutureWarning: The default initialization in TSNE will change from 'random' to 'pca' in 1.2.\n",
      "  warnings.warn(\n",
      "C:\\Users\\semen\\anaconda3\\lib\\site-packages\\sklearn\\manifold\\_t_sne.py:810: FutureWarning: The default learning rate in TSNE will change from 200.0 to 'auto' in 1.2.\n",
      "  warnings.warn(\n"
     ]
    },
    {
     "data": {
      "image/png": "[encoded data removed]",
      "text/plain": [
       "<Figure size 720x576 with 1 Axes>"
      ]
     },
     "metadata": {
      "needs_background": "light"
     },
     "output_type": "display_data"
    }
   ],
   "source": [
    "scaler = StandardScaler()\n",
    "X_train_scaled = scaler.fit_transform(X)\n",
    "tsne = TSNE(n_components=2, random_state=42)\n",
    "X_tsne = tsne.fit_transform(X_train_scaled)\n",
    "tsne_df = pd.DataFrame(data=X_tsne, columns=['Dimension 1', 'Dimension 2'])\n",
    "tsne_df['Target'] = kmeans.labels_\n",
    "plt.figure(figsize=(10,8))\n",
    "scatter=plt.scatter(tsne_df['Dimension 1'], tsne_df['Dimension 2'], c=tsne_df['Target'], cmap='viridis')\n",
    "plt.legend(*scatter.legend_elements(), title='Classes')\n",
    "plt.title('t-SNE')\n",
    "plt.show()"
   ]
  },
  {
   "cell_type": "code",
   "execution_count": 163,
   "id": "a1aa5d4d",
   "metadata": {},
   "outputs": [
    {
     "name": "stdout",
     "output_type": "stream",
     "text": [
      "0.27692307692307694\n"
     ]
    }
   ],
   "source": [
    "\n",
    "print(1-accuracy_score(y, kmeans.labels_))"
   ]
  },
  {
   "cell_type": "code",
   "execution_count": 171,
   "id": "c330dcdc",
   "metadata": {},
   "outputs": [
    {
     "name": "stdout",
     "output_type": "stream",
     "text": [
      "Top Significant Features:\n",
      "             Feature  Coefficient\n",
      "20                D2     3.381114\n",
      "9   MDVP:Shimmer(dB)     2.583487\n",
      "18           spread1     1.397157\n",
      "15               HNR     0.162981\n",
      "0        MDVP:Fo(Hz)    -0.009267\n",
      "1       MDVP:Fhi(Hz)    -0.003444\n",
      "2       MDVP:Flo(Hz)    -0.002575\n",
      "13       Shimmer:DDA     0.000000\n",
      "19           spread2     0.000000\n",
      "17               DFA     0.000000\n",
      "16              RPDE     0.000000\n",
      "14               NHR     0.000000\n",
      "11      Shimmer:APQ5     0.000000\n",
      "12          MDVP:APQ     0.000000\n",
      "10      Shimmer:APQ3     0.000000\n",
      "8       MDVP:Shimmer     0.000000\n",
      "7         Jitter:DDP     0.000000\n",
      "6           MDVP:PPQ     0.000000\n",
      "5           MDVP:RAP     0.000000\n",
      "4   MDVP:Jitter(Abs)     0.000000\n",
      "3     MDVP:Jitter(%)     0.000000\n",
      "21               PPE     0.000000\n"
     ]
    }
   ],
   "source": [
    "from sklearn.linear_model import LogisticRegression\n",
    "\n",
    "X_train, X_test, y_train, y_test = train_test_split(X, y, test_size=0.2, random_state=42)\n",
    "\n",
    "lasso_model = LogisticRegression(penalty='l1', solver='liblinear', C=1.0)\n",
    "lasso_model.fit(X, y)\n",
    "\n",
    "coefficients = lasso_model.coef_[0]\n",
    "feature_names = X.columns\n",
    "coefficients_df = pd.DataFrame({'Feature': feature_names, 'Coefficient': coefficients})\n",
    "coefficients_df['Abs_Coefficient'] = np.abs(coefficients_df['Coefficient'])\n",
    "coefficients_df = coefficients_df.sort_values(by='Abs_Coefficient', ascending=False)\n",
    "\n",
    "print(\"Top Significant Features:\")\n",
    "print(coefficients_df[['Feature', 'Coefficient']])"
   ]
  },
  {
   "cell_type": "code",
   "execution_count": 265,
   "id": "d1792a35",
   "metadata": {},
   "outputs": [
    {
     "name": "stdout",
     "output_type": "stream",
     "text": [
      "Epoch 1/70\n",
      "20/20 [==============================] - 1s 12ms/step - loss: 3835.9175 - val_loss: 4380.8115\n",
      "Epoch 2/70\n",
      "20/20 [==============================] - 0s 7ms/step - loss: 3763.5825 - val_loss: 4290.3271\n",
      "Epoch 3/70\n",
      "20/20 [==============================] - 0s 7ms/step - loss: 3648.9114 - val_loss: 4121.7759\n",
      "Epoch 4/70\n",
      "20/20 [==============================] - 0s 5ms/step - loss: 3415.7568 - val_loss: 3843.0825\n",
      "Epoch 5/70\n",
      "20/20 [==============================] - 0s 5ms/step - loss: 3105.2488 - val_loss: 3494.7544\n",
      "Epoch 6/70\n",
      "20/20 [==============================] - 0s 4ms/step - loss: 2749.3550 - val_loss: 3097.8896\n",
      "Epoch 7/70\n",
      "20/20 [==============================] - 0s 5ms/step - loss: 2352.2209 - val_loss: 2683.8743\n",
      "Epoch 8/70\n",
      "20/20 [==============================] - 0s 5ms/step - loss: 1924.7424 - val_loss: 2235.4312\n",
      "Epoch 9/70\n",
      "20/20 [==============================] - 0s 5ms/step - loss: 1529.2745 - val_loss: 1862.7212\n",
      "Epoch 10/70\n",
      "20/20 [==============================] - 0s 4ms/step - loss: 1216.0344 - val_loss: 1589.7947\n",
      "Epoch 11/70\n",
      "20/20 [==============================] - 0s 4ms/step - loss: 993.7524 - val_loss: 1362.2157\n",
      "Epoch 12/70\n",
      "20/20 [==============================] - 0s 4ms/step - loss: 822.4415 - val_loss: 1175.7928\n",
      "Epoch 13/70\n",
      "20/20 [==============================] - 0s 5ms/step - loss: 685.7532 - val_loss: 1017.0567\n",
      "Epoch 14/70\n",
      "20/20 [==============================] - 0s 5ms/step - loss: 577.0529 - val_loss: 880.7459\n",
      "Epoch 15/70\n",
      "20/20 [==============================] - 0s 5ms/step - loss: 486.5121 - val_loss: 767.5818\n",
      "Epoch 16/70\n",
      "20/20 [==============================] - 0s 5ms/step - loss: 413.0536 - val_loss: 678.0532\n",
      "Epoch 17/70\n",
      "20/20 [==============================] - 0s 4ms/step - loss: 360.0938 - val_loss: 595.8254\n",
      "Epoch 18/70\n",
      "20/20 [==============================] - 0s 5ms/step - loss: 315.5938 - val_loss: 538.5040\n",
      "Epoch 19/70\n",
      "20/20 [==============================] - 0s 5ms/step - loss: 288.2303 - val_loss: 487.6630\n",
      "Epoch 20/70\n",
      "20/20 [==============================] - 0s 5ms/step - loss: 265.3662 - val_loss: 455.2053\n",
      "Epoch 21/70\n",
      "20/20 [==============================] - 0s 4ms/step - loss: 250.6588 - val_loss: 432.3035\n",
      "Epoch 22/70\n",
      "20/20 [==============================] - 0s 4ms/step - loss: 242.3999 - val_loss: 409.1791\n",
      "Epoch 23/70\n",
      "20/20 [==============================] - 0s 4ms/step - loss: 235.8468 - val_loss: 394.9561\n",
      "Epoch 24/70\n",
      "20/20 [==============================] - 0s 8ms/step - loss: 231.6629 - val_loss: 386.3749\n",
      "Epoch 25/70\n",
      "20/20 [==============================] - 0s 5ms/step - loss: 228.9544 - val_loss: 378.8509\n",
      "Epoch 26/70\n",
      "20/20 [==============================] - 0s 6ms/step - loss: 226.3230 - val_loss: 372.6909\n",
      "Epoch 27/70\n",
      "20/20 [==============================] - 0s 4ms/step - loss: 225.9447 - val_loss: 361.9674\n",
      "Epoch 28/70\n",
      "20/20 [==============================] - 0s 6ms/step - loss: 222.3712 - val_loss: 360.3513\n",
      "Epoch 29/70\n",
      "20/20 [==============================] - 0s 6ms/step - loss: 220.5011 - val_loss: 353.6948\n",
      "Epoch 30/70\n",
      "20/20 [==============================] - 0s 5ms/step - loss: 218.7048 - val_loss: 348.2650\n",
      "Epoch 31/70\n",
      "20/20 [==============================] - 0s 6ms/step - loss: 217.4976 - val_loss: 344.8248\n",
      "Epoch 32/70\n",
      "20/20 [==============================] - 0s 5ms/step - loss: 216.2675 - val_loss: 341.0902\n",
      "Epoch 33/70\n",
      "20/20 [==============================] - 0s 4ms/step - loss: 214.6684 - val_loss: 336.3738\n",
      "Epoch 34/70\n",
      "20/20 [==============================] - 0s 4ms/step - loss: 212.5361 - val_loss: 334.5127\n",
      "Epoch 35/70\n",
      "20/20 [==============================] - 0s 5ms/step - loss: 210.7735 - val_loss: 333.5285\n",
      "Epoch 36/70\n",
      "20/20 [==============================] - 0s 5ms/step - loss: 209.8453 - val_loss: 329.9033\n",
      "Epoch 37/70\n",
      "20/20 [==============================] - 0s 5ms/step - loss: 207.6835 - val_loss: 330.5621\n",
      "Epoch 38/70\n",
      "20/20 [==============================] - 0s 4ms/step - loss: 206.2933 - val_loss: 323.9479\n",
      "Epoch 39/70\n",
      "20/20 [==============================] - 0s 4ms/step - loss: 204.0971 - val_loss: 321.5958\n",
      "Epoch 40/70\n",
      "20/20 [==============================] - 0s 5ms/step - loss: 202.6319 - val_loss: 317.5074\n",
      "Epoch 41/70\n",
      "20/20 [==============================] - 0s 5ms/step - loss: 200.7423 - val_loss: 317.7691\n",
      "Epoch 42/70\n",
      "20/20 [==============================] - 0s 5ms/step - loss: 199.1347 - val_loss: 313.5572\n",
      "Epoch 43/70\n",
      "20/20 [==============================] - 0s 5ms/step - loss: 197.0187 - val_loss: 310.1299\n",
      "Epoch 44/70\n",
      "20/20 [==============================] - 0s 4ms/step - loss: 195.1851 - val_loss: 305.4458\n",
      "Epoch 45/70\n",
      "20/20 [==============================] - 0s 4ms/step - loss: 193.6487 - val_loss: 303.8381\n",
      "Epoch 46/70\n",
      "20/20 [==============================] - 0s 4ms/step - loss: 191.4869 - val_loss: 301.1721\n",
      "Epoch 47/70\n",
      "20/20 [==============================] - 0s 5ms/step - loss: 189.4352 - val_loss: 295.7546\n",
      "Epoch 48/70\n",
      "20/20 [==============================] - 0s 5ms/step - loss: 187.6011 - val_loss: 295.7271\n",
      "Epoch 49/70\n",
      "20/20 [==============================] - 0s 5ms/step - loss: 185.8799 - val_loss: 289.7994\n",
      "Epoch 50/70\n",
      "20/20 [==============================] - 0s 5ms/step - loss: 183.5295 - val_loss: 283.4362\n",
      "Epoch 51/70\n",
      "20/20 [==============================] - 0s 6ms/step - loss: 180.6055 - val_loss: 282.1798\n",
      "Epoch 52/70\n",
      "20/20 [==============================] - 0s 7ms/step - loss: 178.7114 - val_loss: 279.8674\n",
      "Epoch 53/70\n",
      "20/20 [==============================] - 0s 5ms/step - loss: 176.2516 - val_loss: 275.4403\n",
      "Epoch 54/70\n",
      "20/20 [==============================] - 0s 5ms/step - loss: 173.3165 - val_loss: 267.0050\n",
      "Epoch 55/70\n",
      "20/20 [==============================] - 0s 5ms/step - loss: 171.5703 - val_loss: 260.1226\n",
      "Epoch 56/70\n",
      "20/20 [==============================] - 0s 5ms/step - loss: 168.4244 - val_loss: 257.5191\n",
      "Epoch 57/70\n",
      "20/20 [==============================] - 0s 4ms/step - loss: 166.0500 - val_loss: 255.2925\n",
      "Epoch 58/70\n",
      "20/20 [==============================] - 0s 5ms/step - loss: 164.4712 - val_loss: 248.7608\n",
      "Epoch 59/70\n",
      "20/20 [==============================] - 0s 5ms/step - loss: 161.2250 - val_loss: 247.8971\n",
      "Epoch 60/70\n",
      "20/20 [==============================] - 0s 5ms/step - loss: 158.4095 - val_loss: 241.6911\n",
      "Epoch 61/70\n",
      "20/20 [==============================] - 0s 5ms/step - loss: 155.5263 - val_loss: 239.7210\n",
      "Epoch 62/70\n",
      "20/20 [==============================] - 0s 5ms/step - loss: 153.5451 - val_loss: 231.7039\n",
      "Epoch 63/70\n",
      "20/20 [==============================] - 0s 5ms/step - loss: 149.8788 - val_loss: 230.1187\n",
      "Epoch 64/70\n",
      "20/20 [==============================] - 0s 5ms/step - loss: 147.8131 - val_loss: 222.7115\n",
      "Epoch 65/70\n",
      "20/20 [==============================] - 0s 5ms/step - loss: 144.0940 - val_loss: 219.2793\n",
      "Epoch 66/70\n",
      "20/20 [==============================] - 0s 6ms/step - loss: 141.2140 - val_loss: 214.3736\n",
      "Epoch 67/70\n",
      "20/20 [==============================] - 0s 4ms/step - loss: 138.2970 - val_loss: 209.6641\n",
      "Epoch 68/70\n",
      "20/20 [==============================] - 0s 4ms/step - loss: 135.0833 - val_loss: 204.1091\n",
      "Epoch 69/70\n",
      "20/20 [==============================] - 0s 5ms/step - loss: 132.2788 - val_loss: 195.3881\n",
      "Epoch 70/70\n",
      "20/20 [==============================] - 0s 5ms/step - loss: 128.6178 - val_loss: 191.6276\n",
      "7/7 [==============================] - 0s 1ms/step\n"
     ]
    }
   ],
   "source": [
    "X_train, X_test, y_train, y_test = train_test_split(X, y, test_size=0.2, random_state=42)\n",
    "input_layer = Input(shape=(22,))\n",
    "encoded = Dense(7, activation='relu')(input_layer)\n",
    "decoded = Dense(22,activation='linear')(encoded)\n",
    "autoencoder = Model(input_layer, decoded)\n",
    "autoencoder.compile(optimizer='adam', loss='mean_squared_error')\n",
    "autoencoder.fit(X_train, X_train, epochs=70, batch_size=8, shuffle=True, validation_data=(X_test, X_test))\n",
    "encoder = Model(input_layer, encoded)\n",
    "encoded_data_7 = encoder.predict(X)"
   ]
  },
  {
   "cell_type": "code",
   "execution_count": 267,
   "id": "1071de12",
   "metadata": {},
   "outputs": [
    {
     "name": "stdout",
     "output_type": "stream",
     "text": [
      "0.19999999999999996\n"
     ]
    }
   ],
   "source": [
    "X_train, X_test, y_train, y_test = train_test_split(encoded_data_7, y, test_size=0.05, random_state=42)\n",
    "bagging_classifier_tree = BaggingClassifier(n_estimators=40, random_state=42)\n",
    "bagging_classifier_tree.fit(X_train, y_train)\n",
    "y_pred = bagging_classifier_tree.predict(X_test)\n",
    "print(1-accuracy_score(y_test, y_pred))"
   ]
  },
  {
   "cell_type": "code",
   "execution_count": 268,
   "id": "81dfb719",
   "metadata": {},
   "outputs": [
    {
     "name": "stdout",
     "output_type": "stream",
     "text": [
      "Epoch 1/70\n",
      "20/20 [==============================] - 1s 12ms/step - loss: 4123.5166 - val_loss: 4257.1060\n",
      "Epoch 2/70\n",
      "20/20 [==============================] - 0s 8ms/step - loss: 3369.8701 - val_loss: 3544.7539\n",
      "Epoch 3/70\n",
      "20/20 [==============================] - 0s 9ms/step - loss: 2707.0210 - val_loss: 2839.6638\n",
      "Epoch 4/70\n",
      "20/20 [==============================] - 0s 8ms/step - loss: 2048.3054 - val_loss: 2097.5112\n",
      "Epoch 5/70\n",
      "20/20 [==============================] - 0s 8ms/step - loss: 1397.6987 - val_loss: 1428.4929\n",
      "Epoch 6/70\n",
      "20/20 [==============================] - 0s 7ms/step - loss: 864.3378 - val_loss: 941.7010\n",
      "Epoch 7/70\n",
      "20/20 [==============================] - 0s 5ms/step - loss: 521.8400 - val_loss: 650.5662\n",
      "Epoch 8/70\n",
      "20/20 [==============================] - 0s 5ms/step - loss: 351.3407 - val_loss: 523.3647\n",
      "Epoch 9/70\n",
      "20/20 [==============================] - 0s 5ms/step - loss: 289.9017 - val_loss: 466.7315\n",
      "Epoch 10/70\n",
      "20/20 [==============================] - 0s 5ms/step - loss: 266.1982 - val_loss: 432.9316\n",
      "Epoch 11/70\n",
      "20/20 [==============================] - 0s 5ms/step - loss: 252.8569 - val_loss: 406.3488\n",
      "Epoch 12/70\n",
      "20/20 [==============================] - 0s 5ms/step - loss: 237.1172 - val_loss: 383.5124\n",
      "Epoch 13/70\n",
      "20/20 [==============================] - 0s 4ms/step - loss: 221.0459 - val_loss: 350.9155\n",
      "Epoch 14/70\n",
      "20/20 [==============================] - 0s 4ms/step - loss: 205.1513 - val_loss: 322.0752\n",
      "Epoch 15/70\n",
      "20/20 [==============================] - 0s 5ms/step - loss: 192.7575 - val_loss: 306.1894\n",
      "Epoch 16/70\n",
      "20/20 [==============================] - 0s 5ms/step - loss: 184.2139 - val_loss: 289.2451\n",
      "Epoch 17/70\n",
      "20/20 [==============================] - 0s 5ms/step - loss: 175.4990 - val_loss: 274.5176\n",
      "Epoch 18/70\n",
      "20/20 [==============================] - 0s 5ms/step - loss: 166.1723 - val_loss: 262.5044\n",
      "Epoch 19/70\n",
      "20/20 [==============================] - 0s 4ms/step - loss: 157.9552 - val_loss: 247.9441\n",
      "Epoch 20/70\n",
      "20/20 [==============================] - 0s 4ms/step - loss: 149.8271 - val_loss: 234.5563\n",
      "Epoch 21/70\n",
      "20/20 [==============================] - 0s 5ms/step - loss: 142.2460 - val_loss: 222.0337\n",
      "Epoch 22/70\n",
      "20/20 [==============================] - 0s 6ms/step - loss: 134.5758 - val_loss: 206.4993\n",
      "Epoch 23/70\n",
      "20/20 [==============================] - 0s 5ms/step - loss: 128.0166 - val_loss: 192.6049\n",
      "Epoch 24/70\n",
      "20/20 [==============================] - 0s 6ms/step - loss: 120.3604 - val_loss: 187.3537\n",
      "Epoch 25/70\n",
      "20/20 [==============================] - 0s 7ms/step - loss: 114.0798 - val_loss: 172.9371\n",
      "Epoch 26/70\n",
      "20/20 [==============================] - 0s 6ms/step - loss: 107.2410 - val_loss: 165.3485\n",
      "Epoch 27/70\n",
      "20/20 [==============================] - 0s 6ms/step - loss: 100.4798 - val_loss: 151.8812\n",
      "Epoch 28/70\n",
      "20/20 [==============================] - 0s 5ms/step - loss: 94.4803 - val_loss: 142.8691\n",
      "Epoch 29/70\n",
      "20/20 [==============================] - 0s 5ms/step - loss: 89.3985 - val_loss: 130.0742\n",
      "Epoch 30/70\n",
      "20/20 [==============================] - 0s 6ms/step - loss: 83.4808 - val_loss: 124.2814\n",
      "Epoch 31/70\n",
      "20/20 [==============================] - 0s 6ms/step - loss: 77.6551 - val_loss: 113.8043\n",
      "Epoch 32/70\n",
      "20/20 [==============================] - 0s 5ms/step - loss: 72.8639 - val_loss: 104.8845\n",
      "Epoch 33/70\n",
      "20/20 [==============================] - 0s 5ms/step - loss: 68.1846 - val_loss: 97.7693\n",
      "Epoch 34/70\n",
      "20/20 [==============================] - 0s 5ms/step - loss: 63.1555 - val_loss: 91.0088\n",
      "Epoch 35/70\n",
      "20/20 [==============================] - 0s 4ms/step - loss: 58.8572 - val_loss: 84.0235\n",
      "Epoch 36/70\n",
      "20/20 [==============================] - 0s 5ms/step - loss: 55.0600 - val_loss: 76.1631\n",
      "Epoch 37/70\n",
      "20/20 [==============================] - 0s 5ms/step - loss: 50.7366 - val_loss: 71.7034\n",
      "Epoch 38/70\n",
      "20/20 [==============================] - 0s 4ms/step - loss: 47.2314 - val_loss: 65.4860\n",
      "Epoch 39/70\n",
      "20/20 [==============================] - 0s 5ms/step - loss: 44.0207 - val_loss: 59.5306\n",
      "Epoch 40/70\n",
      "20/20 [==============================] - 0s 5ms/step - loss: 40.5956 - val_loss: 55.2492\n",
      "Epoch 41/70\n",
      "20/20 [==============================] - 0s 5ms/step - loss: 38.0015 - val_loss: 49.8244\n",
      "Epoch 42/70\n",
      "20/20 [==============================] - 0s 5ms/step - loss: 34.9655 - val_loss: 47.7060\n",
      "Epoch 43/70\n",
      "20/20 [==============================] - 0s 5ms/step - loss: 32.4769 - val_loss: 42.7508\n",
      "Epoch 44/70\n",
      "20/20 [==============================] - 0s 4ms/step - loss: 30.2777 - val_loss: 38.1145\n",
      "Epoch 45/70\n",
      "20/20 [==============================] - 0s 7ms/step - loss: 27.9469 - val_loss: 35.0469\n",
      "Epoch 46/70\n",
      "20/20 [==============================] - 0s 5ms/step - loss: 26.0482 - val_loss: 32.3745\n",
      "Epoch 47/70\n",
      "20/20 [==============================] - 0s 4ms/step - loss: 24.2037 - val_loss: 29.8044\n",
      "Epoch 48/70\n",
      "20/20 [==============================] - 0s 5ms/step - loss: 22.5292 - val_loss: 26.7244\n",
      "Epoch 49/70\n",
      "20/20 [==============================] - 0s 5ms/step - loss: 21.0045 - val_loss: 24.6193\n",
      "Epoch 50/70\n",
      "20/20 [==============================] - 0s 5ms/step - loss: 19.6230 - val_loss: 23.2795\n",
      "Epoch 51/70\n",
      "20/20 [==============================] - 0s 5ms/step - loss: 18.5049 - val_loss: 21.2723\n",
      "Epoch 52/70\n",
      "20/20 [==============================] - 0s 5ms/step - loss: 17.5396 - val_loss: 19.2547\n",
      "Epoch 53/70\n",
      "20/20 [==============================] - 0s 5ms/step - loss: 16.4349 - val_loss: 18.3758\n",
      "Epoch 54/70\n",
      "20/20 [==============================] - 0s 5ms/step - loss: 15.4781 - val_loss: 16.8026\n",
      "Epoch 55/70\n",
      "20/20 [==============================] - 0s 5ms/step - loss: 14.7653 - val_loss: 15.8754\n",
      "Epoch 56/70\n",
      "20/20 [==============================] - 0s 4ms/step - loss: 14.1651 - val_loss: 14.6619\n",
      "Epoch 57/70\n",
      "20/20 [==============================] - 0s 5ms/step - loss: 13.3114 - val_loss: 13.8970\n",
      "Epoch 58/70\n",
      "20/20 [==============================] - 0s 5ms/step - loss: 12.6775 - val_loss: 13.1151\n",
      "Epoch 59/70\n",
      "20/20 [==============================] - 0s 5ms/step - loss: 12.1587 - val_loss: 12.3120\n",
      "Epoch 60/70\n",
      "20/20 [==============================] - 0s 5ms/step - loss: 11.5733 - val_loss: 11.6619\n",
      "Epoch 61/70\n",
      "20/20 [==============================] - 0s 5ms/step - loss: 11.2371 - val_loss: 11.2227\n",
      "Epoch 62/70\n",
      "20/20 [==============================] - 0s 4ms/step - loss: 10.7577 - val_loss: 10.7086\n",
      "Epoch 63/70\n",
      "20/20 [==============================] - 0s 5ms/step - loss: 10.3805 - val_loss: 10.1818\n",
      "Epoch 64/70\n",
      "20/20 [==============================] - 0s 6ms/step - loss: 10.0744 - val_loss: 9.8444\n",
      "Epoch 65/70\n",
      "20/20 [==============================] - 0s 5ms/step - loss: 9.6738 - val_loss: 9.3850\n",
      "Epoch 66/70\n",
      "20/20 [==============================] - 0s 6ms/step - loss: 9.3450 - val_loss: 8.9532\n",
      "Epoch 67/70\n",
      "20/20 [==============================] - 0s 6ms/step - loss: 9.0743 - val_loss: 8.6100\n",
      "Epoch 68/70\n",
      "20/20 [==============================] - 0s 6ms/step - loss: 8.8228 - val_loss: 8.3809\n",
      "Epoch 69/70\n",
      "20/20 [==============================] - 0s 9ms/step - loss: 8.5449 - val_loss: 8.1011\n",
      "Epoch 70/70\n",
      "20/20 [==============================] - 0s 7ms/step - loss: 8.4373 - val_loss: 7.8191\n",
      "7/7 [==============================] - 0s 1ms/step\n"
     ]
    }
   ],
   "source": [
    "X_train, X_test, y_train, y_test = train_test_split(X, y, test_size=0.2, random_state=42)\n",
    "input_layer = Input(shape=(22,))\n",
    "encoded = Dense(22, activation='relu', activity_regularizer=tf.keras.regularizers.l1(1e-4))(input_layer)\n",
    "decoded = Dense(22,activation='linear')(encoded)\n",
    "autoencoder = Model(input_layer, decoded)\n",
    "autoencoder.compile(optimizer='adam', loss='mean_squared_error')\n",
    "autoencoder.fit(X_train, X_train, epochs=70, batch_size=8, shuffle=True, validation_data=(X_test, X_test))\n",
    "encoder = Model(input_layer, encoded)\n",
    "encoded_data_l1 = encoder.predict(X)"
   ]
  },
  {
   "cell_type": "code",
   "execution_count": 271,
   "id": "06f188b3",
   "metadata": {},
   "outputs": [
    {
     "name": "stdout",
     "output_type": "stream",
     "text": [
      "0.19999999999999996\n"
     ]
    }
   ],
   "source": [
    "X_train, X_test, y_train, y_test = train_test_split(encoded_data_l1, y, test_size=0.1, random_state=42)\n",
    "bagging_classifier_tree = BaggingClassifier(n_estimators=10, random_state=42)\n",
    "bagging_classifier_tree.fit(X_train, y_train)\n",
    "y_pred = bagging_classifier_tree.predict(X_test)\n",
    "print(1-accuracy_score(y_test, y_pred))"
   ]
  },
  {
   "cell_type": "code",
   "execution_count": 242,
   "id": "e8dc3e4e",
   "metadata": {},
   "outputs": [
    {
     "name": "stderr",
     "output_type": "stream",
     "text": [
      "C:\\Users\\semen\\anaconda3\\lib\\site-packages\\sklearn\\manifold\\_t_sne.py:800: FutureWarning: The default initialization in TSNE will change from 'random' to 'pca' in 1.2.\n",
      "  warnings.warn(\n",
      "C:\\Users\\semen\\anaconda3\\lib\\site-packages\\sklearn\\manifold\\_t_sne.py:810: FutureWarning: The default learning rate in TSNE will change from 200.0 to 'auto' in 1.2.\n",
      "  warnings.warn(\n"
     ]
    },
    {
     "data": {
      "image/png": "[encoded data removed]",
      "text/plain": [
       "<Figure size 720x576 with 1 Axes>"
      ]
     },
     "metadata": {
      "needs_background": "light"
     },
     "output_type": "display_data"
    }
   ],
   "source": [
    "scaler = StandardScaler()\n",
    "X_train_scaled = scaler.fit_transform(encoded_data)\n",
    "tsne = TSNE(n_components=2, random_state=42)\n",
    "X_tsne = tsne.fit_transform(X_train_scaled)\n",
    "tsne_df = pd.DataFrame(data=X_tsne, columns=['Dimension 1', 'Dimension 2'])\n",
    "tsne_df['Target'] = y.values\n",
    "plt.figure(figsize=(10,8))\n",
    "scatter=plt.scatter(tsne_df['Dimension 1'], tsne_df['Dimension 2'], c=tsne_df['Target'], cmap='viridis')\n",
    "plt.legend(*scatter.legend_elements(), title='Classes')\n",
    "plt.title('t-SNE')\n",
    "plt.show()"
   ]
  },
  {
   "cell_type": "code",
   "execution_count": 247,
   "id": "78b619e3",
   "metadata": {},
   "outputs": [
    {
     "name": "stdout",
     "output_type": "stream",
     "text": [
      "Epoch 1/70\n",
      "20/20 [==============================] - 1s 12ms/step - loss: 3938.6902 - val_loss: 4373.0298\n",
      "Epoch 2/70\n",
      "20/20 [==============================] - 0s 7ms/step - loss: 3680.0757 - val_loss: 4123.6450\n",
      "Epoch 3/70\n",
      "20/20 [==============================] - 0s 6ms/step - loss: 3495.0376 - val_loss: 3942.2786\n",
      "Epoch 4/70\n",
      "20/20 [==============================] - 0s 6ms/step - loss: 3331.8542 - val_loss: 3748.9883\n",
      "Epoch 5/70\n",
      "20/20 [==============================] - 0s 6ms/step - loss: 3143.5325 - val_loss: 3518.4607\n",
      "Epoch 6/70\n",
      "20/20 [==============================] - 0s 10ms/step - loss: 2916.5095 - val_loss: 3250.5801\n",
      "Epoch 7/70\n",
      "20/20 [==============================] - 0s 6ms/step - loss: 2650.0999 - val_loss: 2936.6738\n",
      "Epoch 8/70\n",
      "20/20 [==============================] - 0s 4ms/step - loss: 2348.6069 - val_loss: 2602.4917\n",
      "Epoch 9/70\n",
      "20/20 [==============================] - 0s 4ms/step - loss: 2038.9084 - val_loss: 2250.3782\n",
      "Epoch 10/70\n",
      "20/20 [==============================] - 0s 4ms/step - loss: 1716.6722 - val_loss: 1933.8718\n",
      "Epoch 11/70\n",
      "20/20 [==============================] - 0s 4ms/step - loss: 1428.5566 - val_loss: 1639.9301\n",
      "Epoch 12/70\n",
      "20/20 [==============================] - 0s 4ms/step - loss: 1169.4259 - val_loss: 1389.0789\n",
      "Epoch 13/70\n",
      "20/20 [==============================] - 0s 4ms/step - loss: 956.1671 - val_loss: 1161.7042\n",
      "Epoch 14/70\n",
      "20/20 [==============================] - 0s 4ms/step - loss: 776.9437 - val_loss: 989.7700\n",
      "Epoch 15/70\n",
      "20/20 [==============================] - 0s 4ms/step - loss: 636.5788 - val_loss: 849.3109\n",
      "Epoch 16/70\n",
      "20/20 [==============================] - 0s 5ms/step - loss: 527.7085 - val_loss: 740.7506\n",
      "Epoch 17/70\n",
      "20/20 [==============================] - 0s 4ms/step - loss: 442.7202 - val_loss: 655.1345\n",
      "Epoch 18/70\n",
      "20/20 [==============================] - 0s 4ms/step - loss: 379.9120 - val_loss: 582.5438\n",
      "Epoch 19/70\n",
      "20/20 [==============================] - 0s 4ms/step - loss: 330.0060 - val_loss: 531.7770\n",
      "Epoch 20/70\n",
      "20/20 [==============================] - 0s 5ms/step - loss: 294.5249 - val_loss: 486.5453\n",
      "Epoch 21/70\n",
      "20/20 [==============================] - 0s 4ms/step - loss: 268.2510 - val_loss: 447.2305\n",
      "Epoch 22/70\n",
      "20/20 [==============================] - 0s 4ms/step - loss: 247.1709 - val_loss: 425.5131\n",
      "Epoch 23/70\n",
      "20/20 [==============================] - 0s 5ms/step - loss: 233.0945 - val_loss: 393.2969\n",
      "Epoch 24/70\n",
      "20/20 [==============================] - 0s 4ms/step - loss: 220.9598 - val_loss: 373.0116\n",
      "Epoch 25/70\n",
      "20/20 [==============================] - 0s 4ms/step - loss: 211.9995 - val_loss: 358.4196\n",
      "Epoch 26/70\n",
      "20/20 [==============================] - 0s 4ms/step - loss: 204.9211 - val_loss: 349.4686\n",
      "Epoch 27/70\n",
      "20/20 [==============================] - 0s 5ms/step - loss: 199.1115 - val_loss: 332.7766\n",
      "Epoch 28/70\n",
      "20/20 [==============================] - 0s 4ms/step - loss: 193.7171 - val_loss: 321.0603\n",
      "Epoch 29/70\n",
      "20/20 [==============================] - 0s 4ms/step - loss: 187.4570 - val_loss: 314.6493\n",
      "Epoch 30/70\n",
      "20/20 [==============================] - 0s 5ms/step - loss: 182.0499 - val_loss: 305.8996\n",
      "Epoch 31/70\n",
      "20/20 [==============================] - 0s 5ms/step - loss: 175.8470 - val_loss: 290.3754\n",
      "Epoch 32/70\n",
      "20/20 [==============================] - 0s 5ms/step - loss: 170.1977 - val_loss: 277.6583\n",
      "Epoch 33/70\n",
      "20/20 [==============================] - 0s 5ms/step - loss: 163.2367 - val_loss: 268.4391\n",
      "Epoch 34/70\n",
      "20/20 [==============================] - 0s 5ms/step - loss: 157.4747 - val_loss: 259.8062\n",
      "Epoch 35/70\n",
      "20/20 [==============================] - 0s 4ms/step - loss: 150.9455 - val_loss: 249.9972\n",
      "Epoch 36/70\n",
      "20/20 [==============================] - 0s 6ms/step - loss: 145.1329 - val_loss: 237.0102\n",
      "Epoch 37/70\n",
      "20/20 [==============================] - 0s 5ms/step - loss: 138.5827 - val_loss: 227.6011\n",
      "Epoch 38/70\n",
      "20/20 [==============================] - 0s 5ms/step - loss: 132.8397 - val_loss: 213.9637\n",
      "Epoch 39/70\n",
      "20/20 [==============================] - 0s 5ms/step - loss: 126.1383 - val_loss: 205.7338\n",
      "Epoch 40/70\n",
      "20/20 [==============================] - 0s 5ms/step - loss: 120.4094 - val_loss: 193.0809\n",
      "Epoch 41/70\n",
      "20/20 [==============================] - 0s 4ms/step - loss: 114.4354 - val_loss: 183.9659\n",
      "Epoch 42/70\n",
      "20/20 [==============================] - 0s 4ms/step - loss: 110.4075 - val_loss: 170.3306\n",
      "Epoch 43/70\n",
      "20/20 [==============================] - 0s 4ms/step - loss: 103.2434 - val_loss: 163.4762\n",
      "Epoch 44/70\n",
      "20/20 [==============================] - 0s 5ms/step - loss: 98.8669 - val_loss: 151.1340\n",
      "Epoch 45/70\n",
      "20/20 [==============================] - 0s 5ms/step - loss: 93.3785 - val_loss: 143.9966\n",
      "Epoch 46/70\n",
      "20/20 [==============================] - 0s 5ms/step - loss: 89.4944 - val_loss: 135.4811\n",
      "Epoch 47/70\n",
      "20/20 [==============================] - 0s 5ms/step - loss: 85.3444 - val_loss: 128.5826\n",
      "Epoch 48/70\n",
      "20/20 [==============================] - 0s 4ms/step - loss: 81.3160 - val_loss: 122.9617\n",
      "Epoch 49/70\n",
      "20/20 [==============================] - 0s 6ms/step - loss: 78.4405 - val_loss: 115.2723\n",
      "Epoch 50/70\n",
      "20/20 [==============================] - 0s 6ms/step - loss: 74.9605 - val_loss: 109.1396\n",
      "Epoch 51/70\n",
      "20/20 [==============================] - 0s 5ms/step - loss: 71.5780 - val_loss: 102.4798\n",
      "Epoch 52/70\n",
      "20/20 [==============================] - 0s 5ms/step - loss: 68.2361 - val_loss: 97.6925\n",
      "Epoch 53/70\n",
      "20/20 [==============================] - 0s 5ms/step - loss: 66.1287 - val_loss: 91.9833\n",
      "Epoch 54/70\n",
      "20/20 [==============================] - 0s 4ms/step - loss: 63.1655 - val_loss: 88.7286\n",
      "Epoch 55/70\n",
      "20/20 [==============================] - 0s 4ms/step - loss: 61.0573 - val_loss: 84.1932\n",
      "Epoch 56/70\n",
      "20/20 [==============================] - 0s 5ms/step - loss: 59.3423 - val_loss: 80.2371\n",
      "Epoch 57/70\n",
      "20/20 [==============================] - 0s 5ms/step - loss: 56.9872 - val_loss: 76.9987\n",
      "Epoch 58/70\n",
      "20/20 [==============================] - 0s 5ms/step - loss: 55.5047 - val_loss: 73.1507\n",
      "Epoch 59/70\n",
      "20/20 [==============================] - 0s 4ms/step - loss: 53.5557 - val_loss: 70.7487\n",
      "Epoch 60/70\n",
      "20/20 [==============================] - 0s 4ms/step - loss: 52.0655 - val_loss: 68.0788\n",
      "Epoch 61/70\n",
      "20/20 [==============================] - 0s 5ms/step - loss: 50.7485 - val_loss: 65.6555\n",
      "Epoch 62/70\n",
      "20/20 [==============================] - 0s 5ms/step - loss: 49.3630 - val_loss: 63.3409\n",
      "Epoch 63/70\n",
      "20/20 [==============================] - 0s 5ms/step - loss: 48.2486 - val_loss: 61.1466\n",
      "Epoch 64/70\n",
      "20/20 [==============================] - 0s 5ms/step - loss: 47.1309 - val_loss: 59.2963\n",
      "Epoch 65/70\n",
      "20/20 [==============================] - 0s 5ms/step - loss: 46.0825 - val_loss: 57.2883\n",
      "Epoch 66/70\n",
      "20/20 [==============================] - 0s 4ms/step - loss: 45.0438 - val_loss: 56.0148\n",
      "Epoch 67/70\n",
      "20/20 [==============================] - 0s 5ms/step - loss: 44.2057 - val_loss: 54.3417\n",
      "Epoch 68/70\n",
      "20/20 [==============================] - 0s 5ms/step - loss: 43.4255 - val_loss: 53.2797\n",
      "Epoch 69/70\n",
      "20/20 [==============================] - 0s 5ms/step - loss: 42.5209 - val_loss: 51.8771\n",
      "Epoch 70/70\n",
      "20/20 [==============================] - 0s 7ms/step - loss: 42.0705 - val_loss: 50.6674\n"
     ]
    },
    {
     "ename": "TypeError",
     "evalue": "'DataFrame' object cannot be interpreted as an integer",
     "output_type": "error",
     "traceback": [
      "\u001b[1;31m---------------------------------------------------------------------------\u001b[0m",
      "\u001b[1;31mTypeError\u001b[0m                                 Traceback (most recent call last)",
      "Input \u001b[1;32mIn [247]\u001b[0m, in \u001b[0;36m<cell line: 11>\u001b[1;34m()\u001b[0m\n\u001b[0;32m      9\u001b[0m autoencoder\u001b[38;5;241m.\u001b[39mfit(X_train_noisy, X_train, epochs\u001b[38;5;241m=\u001b[39m\u001b[38;5;241m70\u001b[39m, batch_size\u001b[38;5;241m=\u001b[39m\u001b[38;5;241m8\u001b[39m, shuffle\u001b[38;5;241m=\u001b[39m\u001b[38;5;28;01mTrue\u001b[39;00m, validation_data\u001b[38;5;241m=\u001b[39m(X_test_noisy, X_test))\n\u001b[0;32m     10\u001b[0m encoder \u001b[38;5;241m=\u001b[39m Model(input_layer, encoded)\n\u001b[1;32m---> 11\u001b[0m encoded_data \u001b[38;5;241m=\u001b[39m encoder\u001b[38;5;241m.\u001b[39mpredict(\u001b[43mnp\u001b[49m\u001b[38;5;241;43m.\u001b[39;49m\u001b[43mconcatenate\u001b[49m\u001b[43m(\u001b[49m\u001b[43mX_test_noisy\u001b[49m\u001b[43m,\u001b[49m\u001b[43m \u001b[49m\u001b[43mX_train_noisy\u001b[49m\u001b[43m)\u001b[49m,axis\u001b[38;5;241m=\u001b[39m\u001b[38;5;241m0\u001b[39m)\n",
      "File \u001b[1;32m<__array_function__ internals>:5\u001b[0m, in \u001b[0;36mconcatenate\u001b[1;34m(*args, **kwargs)\u001b[0m\n",
      "\u001b[1;31mTypeError\u001b[0m: 'DataFrame' object cannot be interpreted as an integer"
     ]
    }
   ],
   "source": [
    "X_train, X_test, y_train, y_test = train_test_split(X, y, test_size=0.2, random_state=42)\n",
    "X_train_noisy = X_train + 0.2*np.random.normal(loc=0.0, scale=1.0, size=X_train.shape)\n",
    "X_test_noisy =  X_test + 0.2*np.random.normal(loc=0.0, scale=1.0, size=X_test.shape)\n",
    "input_layer = Input(shape=(22,))\n",
    "encoded = Dense(7, activation='relu')(input_layer)\n",
    "decoded = Dense(22,activation='linear')(encoded)\n",
    "autoencoder = Model(input_layer, decoded)\n",
    "autoencoder.compile(optimizer='adam', loss='mean_squared_error')\n",
    "autoencoder.fit(X_train_noisy, X_train, epochs=70, batch_size=8, shuffle=True, validation_data=(X_test_noisy, X_test))\n",
    "encoder = Model(input_layer, encoded)"
   ]
  },
  {
   "cell_type": "code",
   "execution_count": 256,
   "id": "28befc8d",
   "metadata": {},
   "outputs": [
    {
     "name": "stderr",
     "output_type": "stream",
     "text": [
      "C:\\Users\\semen\\AppData\\Local\\Temp\\ipykernel_4072\\3551047051.py:1: FutureWarning: The frame.append method is deprecated and will be removed from pandas in a future version. Use pandas.concat instead.\n",
      "  X_new=X_test_noisy.append(X_train_noisy, ignore_index=True)\n"
     ]
    },
    {
     "data": {
      "text/html": [
       "<div>\n",
       "<style scoped>\n",
       "    .dataframe tbody tr th:only-of-type {\n",
       "        vertical-align: middle;\n",
       "    }\n",
       "\n",
       "    .dataframe tbody tr th {\n",
       "        vertical-align: top;\n",
       "    }\n",
       "\n",
       "    .dataframe thead th {\n",
       "        text-align: right;\n",
       "    }\n",
       "</style>\n",
       "<table border=\"1\" class=\"dataframe\">\n",
       "  <thead>\n",
       "    <tr style=\"text-align: right;\">\n",
       "      <th></th>\n",
       "      <th>MDVP:Fo(Hz)</th>\n",
       "      <th>MDVP:Fhi(Hz)</th>\n",
       "      <th>MDVP:Flo(Hz)</th>\n",
       "      <th>MDVP:Jitter(%)</th>\n",
       "      <th>MDVP:Jitter(Abs)</th>\n",
       "      <th>MDVP:RAP</th>\n",
       "      <th>MDVP:PPQ</th>\n",
       "      <th>Jitter:DDP</th>\n",
       "      <th>MDVP:Shimmer</th>\n",
       "      <th>MDVP:Shimmer(dB)</th>\n",
       "      <th>...</th>\n",
       "      <th>MDVP:APQ</th>\n",
       "      <th>Shimmer:DDA</th>\n",
       "      <th>NHR</th>\n",
       "      <th>HNR</th>\n",
       "      <th>RPDE</th>\n",
       "      <th>DFA</th>\n",
       "      <th>spread1</th>\n",
       "      <th>spread2</th>\n",
       "      <th>D2</th>\n",
       "      <th>PPE</th>\n",
       "    </tr>\n",
       "  </thead>\n",
       "  <tbody>\n",
       "    <tr>\n",
       "      <th>0</th>\n",
       "      <td>112.262283</td>\n",
       "      <td>126.598722</td>\n",
       "      <td>103.936840</td>\n",
       "      <td>-0.074495</td>\n",
       "      <td>0.018974</td>\n",
       "      <td>-0.054268</td>\n",
       "      <td>0.203239</td>\n",
       "      <td>-0.143361</td>\n",
       "      <td>-0.147421</td>\n",
       "      <td>0.719295</td>\n",
       "      <td>...</td>\n",
       "      <td>0.208327</td>\n",
       "      <td>0.095346</td>\n",
       "      <td>-0.161405</td>\n",
       "      <td>17.408000</td>\n",
       "      <td>1.008285</td>\n",
       "      <td>0.552706</td>\n",
       "      <td>-5.526521</td>\n",
       "      <td>0.237452</td>\n",
       "      <td>2.472702</td>\n",
       "      <td>0.035890</td>\n",
       "    </tr>\n",
       "    <tr>\n",
       "      <th>1</th>\n",
       "      <td>143.988313</td>\n",
       "      <td>349.193611</td>\n",
       "      <td>83.077856</td>\n",
       "      <td>-0.018226</td>\n",
       "      <td>0.392391</td>\n",
       "      <td>0.185140</td>\n",
       "      <td>0.074007</td>\n",
       "      <td>0.026087</td>\n",
       "      <td>-0.022763</td>\n",
       "      <td>-0.025104</td>\n",
       "      <td>...</td>\n",
       "      <td>-0.075184</td>\n",
       "      <td>0.098160</td>\n",
       "      <td>0.068927</td>\n",
       "      <td>22.126907</td>\n",
       "      <td>0.552818</td>\n",
       "      <td>0.565437</td>\n",
       "      <td>-5.348956</td>\n",
       "      <td>0.560376</td>\n",
       "      <td>2.382584</td>\n",
       "      <td>0.282321</td>\n",
       "    </tr>\n",
       "    <tr>\n",
       "      <th>2</th>\n",
       "      <td>117.769300</td>\n",
       "      <td>127.393686</td>\n",
       "      <td>95.668759</td>\n",
       "      <td>-0.341890</td>\n",
       "      <td>-0.095049</td>\n",
       "      <td>0.385722</td>\n",
       "      <td>-0.451599</td>\n",
       "      <td>-0.100612</td>\n",
       "      <td>0.185231</td>\n",
       "      <td>0.094393</td>\n",
       "      <td>...</td>\n",
       "      <td>0.169792</td>\n",
       "      <td>-0.045470</td>\n",
       "      <td>-0.029941</td>\n",
       "      <td>22.493367</td>\n",
       "      <td>0.731887</td>\n",
       "      <td>0.959537</td>\n",
       "      <td>-3.383459</td>\n",
       "      <td>0.435112</td>\n",
       "      <td>2.586389</td>\n",
       "      <td>0.072149</td>\n",
       "    </tr>\n",
       "    <tr>\n",
       "      <th>3</th>\n",
       "      <td>159.004635</td>\n",
       "      <td>168.616121</td>\n",
       "      <td>144.939580</td>\n",
       "      <td>-0.054047</td>\n",
       "      <td>-0.178852</td>\n",
       "      <td>-0.198678</td>\n",
       "      <td>0.034162</td>\n",
       "      <td>0.268154</td>\n",
       "      <td>0.114397</td>\n",
       "      <td>0.135244</td>\n",
       "      <td>...</td>\n",
       "      <td>-0.100491</td>\n",
       "      <td>-0.134849</td>\n",
       "      <td>0.263826</td>\n",
       "      <td>22.888148</td>\n",
       "      <td>0.606980</td>\n",
       "      <td>0.782926</td>\n",
       "      <td>-6.635458</td>\n",
       "      <td>0.573024</td>\n",
       "      <td>2.547382</td>\n",
       "      <td>0.391534</td>\n",
       "    </tr>\n",
       "    <tr>\n",
       "      <th>4</th>\n",
       "      <td>144.128670</td>\n",
       "      <td>162.304704</td>\n",
       "      <td>65.945010</td>\n",
       "      <td>0.002246</td>\n",
       "      <td>0.154706</td>\n",
       "      <td>-0.305710</td>\n",
       "      <td>-0.300560</td>\n",
       "      <td>0.170260</td>\n",
       "      <td>-0.353954</td>\n",
       "      <td>0.388162</td>\n",
       "      <td>...</td>\n",
       "      <td>-0.134319</td>\n",
       "      <td>0.487079</td>\n",
       "      <td>-0.000557</td>\n",
       "      <td>20.592440</td>\n",
       "      <td>0.566349</td>\n",
       "      <td>0.396873</td>\n",
       "      <td>-5.973211</td>\n",
       "      <td>0.292886</td>\n",
       "      <td>2.011018</td>\n",
       "      <td>0.439233</td>\n",
       "    </tr>\n",
       "    <tr>\n",
       "      <th>...</th>\n",
       "      <td>...</td>\n",
       "      <td>...</td>\n",
       "      <td>...</td>\n",
       "      <td>...</td>\n",
       "      <td>...</td>\n",
       "      <td>...</td>\n",
       "      <td>...</td>\n",
       "      <td>...</td>\n",
       "      <td>...</td>\n",
       "      <td>...</td>\n",
       "      <td>...</td>\n",
       "      <td>...</td>\n",
       "      <td>...</td>\n",
       "      <td>...</td>\n",
       "      <td>...</td>\n",
       "      <td>...</td>\n",
       "      <td>...</td>\n",
       "      <td>...</td>\n",
       "      <td>...</td>\n",
       "      <td>...</td>\n",
       "      <td>...</td>\n",
       "    </tr>\n",
       "    <tr>\n",
       "      <th>190</th>\n",
       "      <td>154.695118</td>\n",
       "      <td>163.836202</td>\n",
       "      <td>144.317534</td>\n",
       "      <td>-0.109024</td>\n",
       "      <td>-0.038682</td>\n",
       "      <td>0.010843</td>\n",
       "      <td>-0.144151</td>\n",
       "      <td>0.335863</td>\n",
       "      <td>-0.045397</td>\n",
       "      <td>0.273137</td>\n",
       "      <td>...</td>\n",
       "      <td>0.128610</td>\n",
       "      <td>-0.070286</td>\n",
       "      <td>0.113286</td>\n",
       "      <td>29.996105</td>\n",
       "      <td>0.014150</td>\n",
       "      <td>0.713560</td>\n",
       "      <td>-6.970906</td>\n",
       "      <td>0.003409</td>\n",
       "      <td>2.311578</td>\n",
       "      <td>0.216730</td>\n",
       "    </tr>\n",
       "    <tr>\n",
       "      <th>191</th>\n",
       "      <td>152.723918</td>\n",
       "      <td>163.126513</td>\n",
       "      <td>75.843018</td>\n",
       "      <td>0.056280</td>\n",
       "      <td>0.278699</td>\n",
       "      <td>0.183744</td>\n",
       "      <td>0.298514</td>\n",
       "      <td>-0.289195</td>\n",
       "      <td>0.008497</td>\n",
       "      <td>0.319628</td>\n",
       "      <td>...</td>\n",
       "      <td>-0.181240</td>\n",
       "      <td>-0.110078</td>\n",
       "      <td>-0.337435</td>\n",
       "      <td>24.670801</td>\n",
       "      <td>0.820570</td>\n",
       "      <td>0.676237</td>\n",
       "      <td>-5.756316</td>\n",
       "      <td>0.084417</td>\n",
       "      <td>2.143104</td>\n",
       "      <td>0.383774</td>\n",
       "    </tr>\n",
       "    <tr>\n",
       "      <th>192</th>\n",
       "      <td>148.286485</td>\n",
       "      <td>164.991384</td>\n",
       "      <td>142.146096</td>\n",
       "      <td>0.055678</td>\n",
       "      <td>-0.207362</td>\n",
       "      <td>-0.053430</td>\n",
       "      <td>0.404928</td>\n",
       "      <td>0.261306</td>\n",
       "      <td>-0.009497</td>\n",
       "      <td>0.442252</td>\n",
       "      <td>...</td>\n",
       "      <td>-0.047571</td>\n",
       "      <td>0.013011</td>\n",
       "      <td>-0.299353</td>\n",
       "      <td>18.671597</td>\n",
       "      <td>0.419462</td>\n",
       "      <td>0.706227</td>\n",
       "      <td>-5.967447</td>\n",
       "      <td>0.329894</td>\n",
       "      <td>2.424759</td>\n",
       "      <td>0.236943</td>\n",
       "    </tr>\n",
       "    <tr>\n",
       "      <th>193</th>\n",
       "      <td>148.335774</td>\n",
       "      <td>156.105491</td>\n",
       "      <td>134.910791</td>\n",
       "      <td>0.321285</td>\n",
       "      <td>-0.308788</td>\n",
       "      <td>0.093221</td>\n",
       "      <td>-0.006376</td>\n",
       "      <td>-0.074824</td>\n",
       "      <td>0.027765</td>\n",
       "      <td>-0.002931</td>\n",
       "      <td>...</td>\n",
       "      <td>-0.032347</td>\n",
       "      <td>-0.273968</td>\n",
       "      <td>0.333694</td>\n",
       "      <td>23.627383</td>\n",
       "      <td>0.412420</td>\n",
       "      <td>0.382938</td>\n",
       "      <td>-5.586264</td>\n",
       "      <td>0.223394</td>\n",
       "      <td>2.909706</td>\n",
       "      <td>0.434151</td>\n",
       "    </tr>\n",
       "    <tr>\n",
       "      <th>194</th>\n",
       "      <td>139.109715</td>\n",
       "      <td>586.681729</td>\n",
       "      <td>66.139586</td>\n",
       "      <td>0.199973</td>\n",
       "      <td>0.249920</td>\n",
       "      <td>-0.097598</td>\n",
       "      <td>0.266350</td>\n",
       "      <td>0.053380</td>\n",
       "      <td>-0.053737</td>\n",
       "      <td>0.910584</td>\n",
       "      <td>...</td>\n",
       "      <td>0.384212</td>\n",
       "      <td>-0.026309</td>\n",
       "      <td>0.280260</td>\n",
       "      <td>10.470053</td>\n",
       "      <td>0.618951</td>\n",
       "      <td>0.655231</td>\n",
       "      <td>-3.299808</td>\n",
       "      <td>0.293427</td>\n",
       "      <td>2.579743</td>\n",
       "      <td>0.395938</td>\n",
       "    </tr>\n",
       "  </tbody>\n",
       "</table>\n",
       "<p>195 rows × 22 columns</p>\n",
       "</div>"
      ],
      "text/plain": [
       "     MDVP:Fo(Hz)  MDVP:Fhi(Hz)  MDVP:Flo(Hz)  MDVP:Jitter(%)  \\\n",
       "0     112.262283    126.598722    103.936840       -0.074495   \n",
       "1     143.988313    349.193611     83.077856       -0.018226   \n",
       "2     117.769300    127.393686     95.668759       -0.341890   \n",
       "3     159.004635    168.616121    144.939580       -0.054047   \n",
       "4     144.128670    162.304704     65.945010        0.002246   \n",
       "..           ...           ...           ...             ...   \n",
       "190   154.695118    163.836202    144.317534       -0.109024   \n",
       "191   152.723918    163.126513     75.843018        0.056280   \n",
       "192   148.286485    164.991384    142.146096        0.055678   \n",
       "193   148.335774    156.105491    134.910791        0.321285   \n",
       "194   139.109715    586.681729     66.139586        0.199973   \n",
       "\n",
       "     MDVP:Jitter(Abs)  MDVP:RAP  MDVP:PPQ  Jitter:DDP  MDVP:Shimmer  \\\n",
       "0            0.018974 -0.054268  0.203239   -0.143361     -0.147421   \n",
       "1            0.392391  0.185140  0.074007    0.026087     -0.022763   \n",
       "2           -0.095049  0.385722 -0.451599   -0.100612      0.185231   \n",
       "3           -0.178852 -0.198678  0.034162    0.268154      0.114397   \n",
       "4            0.154706 -0.305710 -0.300560    0.170260     -0.353954   \n",
       "..                ...       ...       ...         ...           ...   \n",
       "190         -0.038682  0.010843 -0.144151    0.335863     -0.045397   \n",
       "191          0.278699  0.183744  0.298514   -0.289195      0.008497   \n",
       "192         -0.207362 -0.053430  0.404928    0.261306     -0.009497   \n",
       "193         -0.308788  0.093221 -0.006376   -0.074824      0.027765   \n",
       "194          0.249920 -0.097598  0.266350    0.053380     -0.053737   \n",
       "\n",
       "     MDVP:Shimmer(dB)  ...  MDVP:APQ  Shimmer:DDA       NHR        HNR  \\\n",
       "0            0.719295  ...  0.208327     0.095346 -0.161405  17.408000   \n",
       "1           -0.025104  ... -0.075184     0.098160  0.068927  22.126907   \n",
       "2            0.094393  ...  0.169792    -0.045470 -0.029941  22.493367   \n",
       "3            0.135244  ... -0.100491    -0.134849  0.263826  22.888148   \n",
       "4            0.388162  ... -0.134319     0.487079 -0.000557  20.592440   \n",
       "..                ...  ...       ...          ...       ...        ...   \n",
       "190          0.273137  ...  0.128610    -0.070286  0.113286  29.996105   \n",
       "191          0.319628  ... -0.181240    -0.110078 -0.337435  24.670801   \n",
       "192          0.442252  ... -0.047571     0.013011 -0.299353  18.671597   \n",
       "193         -0.002931  ... -0.032347    -0.273968  0.333694  23.627383   \n",
       "194          0.910584  ...  0.384212    -0.026309  0.280260  10.470053   \n",
       "\n",
       "         RPDE       DFA   spread1   spread2        D2       PPE  \n",
       "0    1.008285  0.552706 -5.526521  0.237452  2.472702  0.035890  \n",
       "1    0.552818  0.565437 -5.348956  0.560376  2.382584  0.282321  \n",
       "2    0.731887  0.959537 -3.383459  0.435112  2.586389  0.072149  \n",
       "3    0.606980  0.782926 -6.635458  0.573024  2.547382  0.391534  \n",
       "4    0.566349  0.396873 -5.973211  0.292886  2.011018  0.439233  \n",
       "..        ...       ...       ...       ...       ...       ...  \n",
       "190  0.014150  0.713560 -6.970906  0.003409  2.311578  0.216730  \n",
       "191  0.820570  0.676237 -5.756316  0.084417  2.143104  0.383774  \n",
       "192  0.419462  0.706227 -5.967447  0.329894  2.424759  0.236943  \n",
       "193  0.412420  0.382938 -5.586264  0.223394  2.909706  0.434151  \n",
       "194  0.618951  0.655231 -3.299808  0.293427  2.579743  0.395938  \n",
       "\n",
       "[195 rows x 22 columns]"
      ]
     },
     "execution_count": 256,
     "metadata": {},
     "output_type": "execute_result"
    }
   ],
   "source": [
    "X_new=X_test_noisy.append(X_train_noisy, ignore_index=True)\n",
    "X_new"
   ]
  },
  {
   "cell_type": "code",
   "execution_count": 258,
   "id": "2069fc87",
   "metadata": {},
   "outputs": [
    {
     "name": "stderr",
     "output_type": "stream",
     "text": [
      "C:\\Users\\semen\\anaconda3\\lib\\site-packages\\sklearn\\manifold\\_t_sne.py:800: FutureWarning: The default initialization in TSNE will change from 'random' to 'pca' in 1.2.\n",
      "  warnings.warn(\n",
      "C:\\Users\\semen\\anaconda3\\lib\\site-packages\\sklearn\\manifold\\_t_sne.py:810: FutureWarning: The default learning rate in TSNE will change from 200.0 to 'auto' in 1.2.\n",
      "  warnings.warn(\n"
     ]
    },
    {
     "data": {
      "image/png": "[encoded data removed]",
      "text/plain": [
       "<Figure size 720x576 with 1 Axes>"
      ]
     },
     "metadata": {
      "needs_background": "light"
     },
     "output_type": "display_data"
    }
   ],
   "source": [
    "scaler = StandardScaler()\n",
    "X_train_scaled = scaler.fit_transform(X_new)\n",
    "tsne = TSNE(n_components=2, random_state=42)\n",
    "X_tsne = tsne.fit_transform(X_train_scaled)\n",
    "tsne_df = pd.DataFrame(data=X_tsne, columns=['Dimension 1', 'Dimension 2'])\n",
    "tsne_df['Target'] = y.values\n",
    "plt.figure(figsize=(10,8))\n",
    "scatter=plt.scatter(tsne_df['Dimension 1'], tsne_df['Dimension 2'], c=tsne_df['Target'], cmap='viridis')\n",
    "plt.legend(*scatter.legend_elements(), title='Classes')\n",
    "plt.title('t-SNE')\n",
    "plt.show()"
   ]
  },
  {
   "cell_type": "code",
   "execution_count": 272,
   "id": "57925d5f",
   "metadata": {},
   "outputs": [
    {
     "name": "stdout",
     "output_type": "stream",
     "text": [
      "0.25\n"
     ]
    }
   ],
   "source": [
    "X_train, X_test, y_train, y_test = train_test_split(X_new, y, test_size=0.1, random_state=42)\n",
    "bagging_classifier_tree = BaggingClassifier(n_estimators=40, random_state=42)\n",
    "bagging_classifier_tree.fit(X_train, y_train)\n",
    "y_pred = bagging_classifier_tree.predict(X_test)\n",
    "print(1-accuracy_score(y_test, y_pred))"
   ]
  },
  {
   "cell_type": "code",
   "execution_count": null,
   "id": "5be207f5",
   "metadata": {},
   "outputs": [],
   "source": []
  }
 ],
 "metadata": {
  "kernelspec": {
   "display_name": "Python 3 (ipykernel)",
   "language": "python",
   "name": "python3"
  },
  "language_info": {
   "codemirror_mode": {
    "name": "ipython",
    "version": 3
   },
   "file_extension": ".py",
   "mimetype": "text/x-python",
   "name": "python",
   "nbconvert_exporter": "python",
   "pygments_lexer": "ipython3",
   "version": "3.9.12"
  }
 },
 "nbformat": 4,
 "nbformat_minor": 5
}
